{
  "nbformat": 4,
  "nbformat_minor": 0,
  "metadata": {
    "colab": {
      "name": "아마.....존?.ipynb",
      "provenance": []
    },
    "kernelspec": {
      "name": "python3",
      "display_name": "Python 3"
    },
    "language_info": {
      "name": "python"
    }
  },
  "cells": [
    {
      "cell_type": "code",
      "metadata": {
        "id": "WHO0E_fsj_IT",
        "colab": {
          "base_uri": "https://localhost:8080/"
        },
        "outputId": "82d0391e-8c11-4abb-b0ac-a8fc2ce17834"
      },
      "source": [
        "import bz2\n",
        "import numpy as np\n",
        "import nltk\n",
        "import re\n",
        "from collections import Counter\n",
        "nltk.download('punkt')"
      ],
      "execution_count": 1,
      "outputs": [
        {
          "output_type": "stream",
          "text": [
            "[nltk_data] Downloading package punkt to /root/nltk_data...\n",
            "[nltk_data]   Unzipping tokenizers/punkt.zip.\n"
          ],
          "name": "stdout"
        },
        {
          "output_type": "execute_result",
          "data": {
            "text/plain": [
              "True"
            ]
          },
          "metadata": {
            "tags": []
          },
          "execution_count": 1
        }
      ]
    },
    {
      "cell_type": "markdown",
      "metadata": {
        "id": "LRdUtIUC6hnf"
      },
      "source": [
        "Google Drive Dataset"
      ]
    },
    {
      "cell_type": "code",
      "metadata": {
        "colab": {
          "base_uri": "https://localhost:8080/"
        },
        "id": "viYLHcjHv716",
        "outputId": "f8b72d01-699b-4a55-958b-a23cca2b4f20"
      },
      "source": [
        "from google.colab import drive\n",
        "drive.mount('/content/drive')"
      ],
      "execution_count": 2,
      "outputs": [
        {
          "output_type": "stream",
          "text": [
            "Mounted at /content/drive\n"
          ],
          "name": "stdout"
        }
      ]
    },
    {
      "cell_type": "markdown",
      "metadata": {
        "id": "2SHseXt76hLx"
      },
      "source": [
        "Training and Test Dataset Import"
      ]
    },
    {
      "cell_type": "code",
      "metadata": {
        "id": "c7YoqLBcwx8S"
      },
      "source": [
        "train = bz2.BZ2File(\"/content/drive/My Drive/amazon/train.ft.txt.bz2/train.ft.txt.bz2\")"
      ],
      "execution_count": 3,
      "outputs": []
    },
    {
      "cell_type": "code",
      "metadata": {
        "id": "jwOcx5Tp5WJA"
      },
      "source": [
        "test = bz2.BZ2File(\"/content/drive/My Drive/amazon/test.ft.txt.bz2/test.ft.txt.bz2\")"
      ],
      "execution_count": 4,
      "outputs": []
    },
    {
      "cell_type": "code",
      "metadata": {
        "id": "wGhIs2VX1rYu"
      },
      "source": [
        "train = train.readlines()\n",
        "test = test.readlines()"
      ],
      "execution_count": 5,
      "outputs": []
    },
    {
      "cell_type": "code",
      "metadata": {
        "colab": {
          "base_uri": "https://localhost:8080/"
        },
        "id": "67OfDjRc1x6R",
        "outputId": "56bb5574-8f17-4270-f3d3-80e47fd21fe5"
      },
      "source": [
        "print(\"Number of training reviews: \" + str(len(train)))\n",
        "print(\"Number of training reviews: \" + str(len(test)))"
      ],
      "execution_count": 6,
      "outputs": [
        {
          "output_type": "stream",
          "text": [
            "Number of training reviews: 3600000\n",
            "Number of training reviews: 400000\n"
          ],
          "name": "stdout"
        }
      ]
    },
    {
      "cell_type": "code",
      "metadata": {
        "id": "th6ojT-f4M86"
      },
      "source": [
        "num_train = 40000\n",
        "num_test = 10000\n",
        "\n",
        "train = [x.decode('utf-8') for x in train[:num_train]]\n",
        "test = [x.decode('utf-8') for x in test[:num_test]]"
      ],
      "execution_count": 7,
      "outputs": []
    },
    {
      "cell_type": "markdown",
      "metadata": {
        "id": "bcDzEezS7YGy"
      },
      "source": [
        "Extracting Labels from Sentences\n",
        "- 1 for positive reviews\n",
        "- 0 for negative reviews"
      ]
    },
    {
      "cell_type": "code",
      "metadata": {
        "id": "yKI75RVk4NDV"
      },
      "source": [
        "train_labels = [0 if x.split(' ')[0] == '__label__1' else 1 for x in train]\n",
        "train_sentences = [x.split(' ', 1)[1][:-1].lower() for x in train]"
      ],
      "execution_count": 8,
      "outputs": []
    },
    {
      "cell_type": "code",
      "metadata": {
        "id": "KmunS_Rv4NFt"
      },
      "source": [
        "test_labels = [0 if x.split(' ')[0] == '__label__1' else 1 for x in test]\n",
        "test_sentences = [x.split(' ', 1)[1][:-1].lower() for x in test]"
      ],
      "execution_count": 9,
      "outputs": []
    },
    {
      "cell_type": "markdown",
      "metadata": {
        "id": "oub7WKTe8E80"
      },
      "source": [
        "Cleaning"
      ]
    },
    {
      "cell_type": "code",
      "metadata": {
        "id": "eiGtBo0b8ES-"
      },
      "source": [
        "for i in range(len(train_sentences)):\n",
        "  train_sentences[i] = re.sub('\\d','0',train_sentences[i])"
      ],
      "execution_count": 10,
      "outputs": []
    },
    {
      "cell_type": "code",
      "metadata": {
        "id": "RUnE_F7D8EF9"
      },
      "source": [
        "for i in range(len(test_sentences)):\n",
        "  test_sentences[i] = re.sub('\\d','0',test_sentences[i])"
      ],
      "execution_count": 11,
      "outputs": []
    },
    {
      "cell_type": "markdown",
      "metadata": {
        "id": "KKvRENvP-MOE"
      },
      "source": [
        "Modify URL"
      ]
    },
    {
      "cell_type": "code",
      "metadata": {
        "id": "Lkr7b-G7-LbA"
      },
      "source": [
        "for i in range(len(train_sentences)):\n",
        "    if 'www.' in train_sentences[i] or 'http:' in train_sentences[i] or 'https:' in train_sentences[i] or '.com' in train_sentences[i]:\n",
        "        train_sentences[i] = re.sub(r\"([^ ]+(?<=\\.[a-z]{3}))\", \"<url>\", train_sentences[i])"
      ],
      "execution_count": 12,
      "outputs": []
    },
    {
      "cell_type": "code",
      "metadata": {
        "id": "Zq6FAUfU-NyQ"
      },
      "source": [
        "for i in range(len(test_sentences)):\n",
        "    if 'www.' in test_sentences[i] or 'http:' in test_sentences[i] or 'https:' in test_sentences[i] or '.com' in test_sentences[i]:\n",
        "        test_sentences[i] = re.sub(r\"([^ ]+(?<=\\.[a-z]{3}))\", \"<url>\", test_sentences[i])"
      ],
      "execution_count": 13,
      "outputs": []
    },
    {
      "cell_type": "markdown",
      "metadata": {
        "id": "y2xAqi8r__-L"
      },
      "source": [
        "Tokenisation"
      ]
    },
    {
      "cell_type": "code",
      "metadata": {
        "colab": {
          "base_uri": "https://localhost:8080/"
        },
        "id": "wUNVMHTiACuV",
        "outputId": "c8d87fbc-4937-4288-aba6-e891caf8f885"
      },
      "source": [
        "words = Counter()\n",
        "\n",
        "for i, sentence in enumerate(train_sentences):\n",
        "    train_sentences[i] = []\n",
        "    for word in nltk.word_tokenize(sentence): \n",
        "        words.update([word.lower()]) \n",
        "        train_sentences[i].append(word)\n",
        "    if i%100 == 0:\n",
        "        print(str((i*100)/num_train) + \"% done\")\n",
        "print(\"100% done\")"
      ],
      "execution_count": 14,
      "outputs": [
        {
          "output_type": "stream",
          "text": [
            "0.0% done\n",
            "0.25% done\n",
            "0.5% done\n",
            "0.75% done\n",
            "1.0% done\n",
            "1.25% done\n",
            "1.5% done\n",
            "1.75% done\n",
            "2.0% done\n",
            "2.25% done\n",
            "2.5% done\n",
            "2.75% done\n",
            "3.0% done\n",
            "3.25% done\n",
            "3.5% done\n",
            "3.75% done\n",
            "4.0% done\n",
            "4.25% done\n",
            "4.5% done\n",
            "4.75% done\n",
            "5.0% done\n",
            "5.25% done\n",
            "5.5% done\n",
            "5.75% done\n",
            "6.0% done\n",
            "6.25% done\n",
            "6.5% done\n",
            "6.75% done\n",
            "7.0% done\n",
            "7.25% done\n",
            "7.5% done\n",
            "7.75% done\n",
            "8.0% done\n",
            "8.25% done\n",
            "8.5% done\n",
            "8.75% done\n",
            "9.0% done\n",
            "9.25% done\n",
            "9.5% done\n",
            "9.75% done\n",
            "10.0% done\n",
            "10.25% done\n",
            "10.5% done\n",
            "10.75% done\n",
            "11.0% done\n",
            "11.25% done\n",
            "11.5% done\n",
            "11.75% done\n",
            "12.0% done\n",
            "12.25% done\n",
            "12.5% done\n",
            "12.75% done\n",
            "13.0% done\n",
            "13.25% done\n",
            "13.5% done\n",
            "13.75% done\n",
            "14.0% done\n",
            "14.25% done\n",
            "14.5% done\n",
            "14.75% done\n",
            "15.0% done\n",
            "15.25% done\n",
            "15.5% done\n",
            "15.75% done\n",
            "16.0% done\n",
            "16.25% done\n",
            "16.5% done\n",
            "16.75% done\n",
            "17.0% done\n",
            "17.25% done\n",
            "17.5% done\n",
            "17.75% done\n",
            "18.0% done\n",
            "18.25% done\n",
            "18.5% done\n",
            "18.75% done\n",
            "19.0% done\n",
            "19.25% done\n",
            "19.5% done\n",
            "19.75% done\n",
            "20.0% done\n",
            "20.25% done\n",
            "20.5% done\n",
            "20.75% done\n",
            "21.0% done\n",
            "21.25% done\n",
            "21.5% done\n",
            "21.75% done\n",
            "22.0% done\n",
            "22.25% done\n",
            "22.5% done\n",
            "22.75% done\n",
            "23.0% done\n",
            "23.25% done\n",
            "23.5% done\n",
            "23.75% done\n",
            "24.0% done\n",
            "24.25% done\n",
            "24.5% done\n",
            "24.75% done\n",
            "25.0% done\n",
            "25.25% done\n",
            "25.5% done\n",
            "25.75% done\n",
            "26.0% done\n",
            "26.25% done\n",
            "26.5% done\n",
            "26.75% done\n",
            "27.0% done\n",
            "27.25% done\n",
            "27.5% done\n",
            "27.75% done\n",
            "28.0% done\n",
            "28.25% done\n",
            "28.5% done\n",
            "28.75% done\n",
            "29.0% done\n",
            "29.25% done\n",
            "29.5% done\n",
            "29.75% done\n",
            "30.0% done\n",
            "30.25% done\n",
            "30.5% done\n",
            "30.75% done\n",
            "31.0% done\n",
            "31.25% done\n",
            "31.5% done\n",
            "31.75% done\n",
            "32.0% done\n",
            "32.25% done\n",
            "32.5% done\n",
            "32.75% done\n",
            "33.0% done\n",
            "33.25% done\n",
            "33.5% done\n",
            "33.75% done\n",
            "34.0% done\n",
            "34.25% done\n",
            "34.5% done\n",
            "34.75% done\n",
            "35.0% done\n",
            "35.25% done\n",
            "35.5% done\n",
            "35.75% done\n",
            "36.0% done\n",
            "36.25% done\n",
            "36.5% done\n",
            "36.75% done\n",
            "37.0% done\n",
            "37.25% done\n",
            "37.5% done\n",
            "37.75% done\n",
            "38.0% done\n",
            "38.25% done\n",
            "38.5% done\n",
            "38.75% done\n",
            "39.0% done\n",
            "39.25% done\n",
            "39.5% done\n",
            "39.75% done\n",
            "40.0% done\n",
            "40.25% done\n",
            "40.5% done\n",
            "40.75% done\n",
            "41.0% done\n",
            "41.25% done\n",
            "41.5% done\n",
            "41.75% done\n",
            "42.0% done\n",
            "42.25% done\n",
            "42.5% done\n",
            "42.75% done\n",
            "43.0% done\n",
            "43.25% done\n",
            "43.5% done\n",
            "43.75% done\n",
            "44.0% done\n",
            "44.25% done\n",
            "44.5% done\n",
            "44.75% done\n",
            "45.0% done\n",
            "45.25% done\n",
            "45.5% done\n",
            "45.75% done\n",
            "46.0% done\n",
            "46.25% done\n",
            "46.5% done\n",
            "46.75% done\n",
            "47.0% done\n",
            "47.25% done\n",
            "47.5% done\n",
            "47.75% done\n",
            "48.0% done\n",
            "48.25% done\n",
            "48.5% done\n",
            "48.75% done\n",
            "49.0% done\n",
            "49.25% done\n",
            "49.5% done\n",
            "49.75% done\n",
            "50.0% done\n",
            "50.25% done\n",
            "50.5% done\n",
            "50.75% done\n",
            "51.0% done\n",
            "51.25% done\n",
            "51.5% done\n",
            "51.75% done\n",
            "52.0% done\n",
            "52.25% done\n",
            "52.5% done\n",
            "52.75% done\n",
            "53.0% done\n",
            "53.25% done\n",
            "53.5% done\n",
            "53.75% done\n",
            "54.0% done\n",
            "54.25% done\n",
            "54.5% done\n",
            "54.75% done\n",
            "55.0% done\n",
            "55.25% done\n",
            "55.5% done\n",
            "55.75% done\n",
            "56.0% done\n",
            "56.25% done\n",
            "56.5% done\n",
            "56.75% done\n",
            "57.0% done\n",
            "57.25% done\n",
            "57.5% done\n",
            "57.75% done\n",
            "58.0% done\n",
            "58.25% done\n",
            "58.5% done\n",
            "58.75% done\n",
            "59.0% done\n",
            "59.25% done\n",
            "59.5% done\n",
            "59.75% done\n",
            "60.0% done\n",
            "60.25% done\n",
            "60.5% done\n",
            "60.75% done\n",
            "61.0% done\n",
            "61.25% done\n",
            "61.5% done\n",
            "61.75% done\n",
            "62.0% done\n",
            "62.25% done\n",
            "62.5% done\n",
            "62.75% done\n",
            "63.0% done\n",
            "63.25% done\n",
            "63.5% done\n",
            "63.75% done\n",
            "64.0% done\n",
            "64.25% done\n",
            "64.5% done\n",
            "64.75% done\n",
            "65.0% done\n",
            "65.25% done\n",
            "65.5% done\n",
            "65.75% done\n",
            "66.0% done\n",
            "66.25% done\n",
            "66.5% done\n",
            "66.75% done\n",
            "67.0% done\n",
            "67.25% done\n",
            "67.5% done\n",
            "67.75% done\n",
            "68.0% done\n",
            "68.25% done\n",
            "68.5% done\n",
            "68.75% done\n",
            "69.0% done\n",
            "69.25% done\n",
            "69.5% done\n",
            "69.75% done\n",
            "70.0% done\n",
            "70.25% done\n",
            "70.5% done\n",
            "70.75% done\n",
            "71.0% done\n",
            "71.25% done\n",
            "71.5% done\n",
            "71.75% done\n",
            "72.0% done\n",
            "72.25% done\n",
            "72.5% done\n",
            "72.75% done\n",
            "73.0% done\n",
            "73.25% done\n",
            "73.5% done\n",
            "73.75% done\n",
            "74.0% done\n",
            "74.25% done\n",
            "74.5% done\n",
            "74.75% done\n",
            "75.0% done\n",
            "75.25% done\n",
            "75.5% done\n",
            "75.75% done\n",
            "76.0% done\n",
            "76.25% done\n",
            "76.5% done\n",
            "76.75% done\n",
            "77.0% done\n",
            "77.25% done\n",
            "77.5% done\n",
            "77.75% done\n",
            "78.0% done\n",
            "78.25% done\n",
            "78.5% done\n",
            "78.75% done\n",
            "79.0% done\n",
            "79.25% done\n",
            "79.5% done\n",
            "79.75% done\n",
            "80.0% done\n",
            "80.25% done\n",
            "80.5% done\n",
            "80.75% done\n",
            "81.0% done\n",
            "81.25% done\n",
            "81.5% done\n",
            "81.75% done\n",
            "82.0% done\n",
            "82.25% done\n",
            "82.5% done\n",
            "82.75% done\n",
            "83.0% done\n",
            "83.25% done\n",
            "83.5% done\n",
            "83.75% done\n",
            "84.0% done\n",
            "84.25% done\n",
            "84.5% done\n",
            "84.75% done\n",
            "85.0% done\n",
            "85.25% done\n",
            "85.5% done\n",
            "85.75% done\n",
            "86.0% done\n",
            "86.25% done\n",
            "86.5% done\n",
            "86.75% done\n",
            "87.0% done\n",
            "87.25% done\n",
            "87.5% done\n",
            "87.75% done\n",
            "88.0% done\n",
            "88.25% done\n",
            "88.5% done\n",
            "88.75% done\n",
            "89.0% done\n",
            "89.25% done\n",
            "89.5% done\n",
            "89.75% done\n",
            "90.0% done\n",
            "90.25% done\n",
            "90.5% done\n",
            "90.75% done\n",
            "91.0% done\n",
            "91.25% done\n",
            "91.5% done\n",
            "91.75% done\n",
            "92.0% done\n",
            "92.25% done\n",
            "92.5% done\n",
            "92.75% done\n",
            "93.0% done\n",
            "93.25% done\n",
            "93.5% done\n",
            "93.75% done\n",
            "94.0% done\n",
            "94.25% done\n",
            "94.5% done\n",
            "94.75% done\n",
            "95.0% done\n",
            "95.25% done\n",
            "95.5% done\n",
            "95.75% done\n",
            "96.0% done\n",
            "96.25% done\n",
            "96.5% done\n",
            "96.75% done\n",
            "97.0% done\n",
            "97.25% done\n",
            "97.5% done\n",
            "97.75% done\n",
            "98.0% done\n",
            "98.25% done\n",
            "98.5% done\n",
            "98.75% done\n",
            "99.0% done\n",
            "99.25% done\n",
            "99.5% done\n",
            "99.75% done\n",
            "100% done\n"
          ],
          "name": "stdout"
        }
      ]
    },
    {
      "cell_type": "markdown",
      "metadata": {
        "id": "cKFIjpG5Gczk"
      },
      "source": [
        "Remove typs and words than appear only once"
      ]
    },
    {
      "cell_type": "code",
      "metadata": {
        "id": "hVfRxKc-Gceh"
      },
      "source": [
        "# Removing the words that only appear once\n",
        "words = {k:v for k,v in words.items() if v>1}\n",
        "# Sorting the words according to the number of appearances, with the most common word being first\n",
        "words = sorted(words, key=words.get, reverse=True)\n",
        "# Adding padding and unknown to our vocabulary so that they will be assigned an index\n",
        "words = ['_PAD','_UNK'] + words\n",
        "# Dictionaries to store the word to index mappings and vice versa\n",
        "word2idx = {o:i for i,o in enumerate(words)}\n",
        "idx2word = {i:o for i,o in enumerate(words)}"
      ],
      "execution_count": 15,
      "outputs": []
    },
    {
      "cell_type": "markdown",
      "metadata": {
        "id": "bSSUozmOIsjU"
      },
      "source": [
        "Mapping\n",
        "- Convert the words in the sentences to their corresponding indexes"
      ]
    },
    {
      "cell_type": "code",
      "metadata": {
        "id": "HgFoBnH8G7Dc"
      },
      "source": [
        "for i, sentence in enumerate(train_sentences):\n",
        "  train_sentences[i] = [word2idx[word] if word in word2idx else 0 for word in sentence]"
      ],
      "execution_count": 16,
      "outputs": []
    },
    {
      "cell_type": "code",
      "metadata": {
        "id": "3kVo_MSPLnKG"
      },
      "source": [
        "for i, sentence in enumerate(test_sentences):\n",
        "  test_sentences[i] = [word2idx[word] if word in word2idx else 0 for word in sentence]"
      ],
      "execution_count": 17,
      "outputs": []
    },
    {
      "cell_type": "markdown",
      "metadata": {
        "id": "m9zki2ksNAk0"
      },
      "source": [
        "Padding\n",
        "\n",
        "*   Set the length\n",
        "\n",
        "\n",
        "\n"
      ]
    },
    {
      "cell_type": "code",
      "metadata": {
        "id": "PsC4nwBBM8eQ"
      },
      "source": [
        "# Defining a function that either shortens sentences or pads sentences with 0 to a fixed length\n",
        "\n",
        "def pad_input(sentences, seq_len):\n",
        "    features = np.zeros((len(sentences), seq_len),dtype=int)\n",
        "    for ii, review in enumerate(sentences):\n",
        "        if len(review) != 0:\n",
        "            features[ii, -len(review):] = np.array(review)[:seq_len]\n",
        "    return features"
      ],
      "execution_count": 18,
      "outputs": []
    },
    {
      "cell_type": "code",
      "metadata": {
        "id": "5eg6IFS4NIcC"
      },
      "source": [
        "seq_len = 200\n",
        "\n",
        "train_sentences = pad_input(train_sentences, seq_len)\n",
        "test_sentences = pad_input(test_sentences, seq_len)"
      ],
      "execution_count": 19,
      "outputs": []
    },
    {
      "cell_type": "code",
      "metadata": {
        "id": "YeVyeJlWNITu"
      },
      "source": [
        "train_labels = np.array(train_labels)\n",
        "test_labels = np.array(test_labels)"
      ],
      "execution_count": 20,
      "outputs": []
    },
    {
      "cell_type": "markdown",
      "metadata": {
        "id": "nLNz_BNpb7lZ"
      },
      "source": [
        "Validation set"
      ]
    },
    {
      "cell_type": "code",
      "metadata": {
        "id": "iyMxOxmVOemA"
      },
      "source": [
        "split_frac = 0.5\n",
        "split_id = int(split_frac * len(test_sentences))\n",
        "val_sentences, test_sentences = test_sentences[:split_id], test_sentences[split_id:]\n",
        "val_labels, test_labels = test_labels[:split_id], test_labels[split_id:]"
      ],
      "execution_count": 21,
      "outputs": []
    },
    {
      "cell_type": "markdown",
      "metadata": {
        "id": "f43H5zljf8MZ"
      },
      "source": [
        "PyTorch"
      ]
    },
    {
      "cell_type": "code",
      "metadata": {
        "id": "b0PS7GN_frg8"
      },
      "source": [
        "import torch\n",
        "from torch.utils.data import TensorDataset, DataLoader\n",
        "\n",
        "train_data = TensorDataset(torch.from_numpy(train_sentences), torch.from_numpy(train_labels))\n",
        "val_data = TensorDataset(torch.from_numpy(val_sentences), torch.from_numpy(val_labels))\n",
        "test_data = TensorDataset(torch.from_numpy(test_sentences), torch.from_numpy(test_labels))\n",
        "\n",
        "batch_size = 40\n",
        "\n",
        "train_loader = DataLoader(train_data, shuffle=True, batch_size=batch_size)\n",
        "val_loader = DataLoader(val_data, shuffle=True, batch_size=batch_size)\n",
        "test_loader = DataLoader(test_data, shuffle=True, batch_size=batch_size)"
      ],
      "execution_count": 22,
      "outputs": []
    },
    {
      "cell_type": "code",
      "metadata": {
        "colab": {
          "base_uri": "https://localhost:8080/"
        },
        "id": "Vf1gkw9WfrmJ",
        "outputId": "8509e659-1c68-4c5a-bb8e-721394a128f3"
      },
      "source": [
        "# torch.cuda.is_available() checks and returns a Boolean True if a GPU is available, else it'll return False\n",
        "is_cuda = torch.cuda.is_available()\n",
        "\n",
        "# If we have a GPU available, we'll set our device to GPU. We'll use this device variable later in our code.\n",
        "if is_cuda:\n",
        "    device = torch.device(\"cuda\")\n",
        "    print(\"GPU is available\")\n",
        "else:\n",
        "    device = torch.device(\"cpu\")\n",
        "    print(\"GPU not available, CPU used\")"
      ],
      "execution_count": 23,
      "outputs": [
        {
          "output_type": "stream",
          "text": [
            "GPU not available, CPU used\n"
          ],
          "name": "stdout"
        }
      ]
    },
    {
      "cell_type": "code",
      "metadata": {
        "colab": {
          "base_uri": "https://localhost:8080/"
        },
        "id": "FFz9KbJ3h0rm",
        "outputId": "2a20d03a-47cc-4710-b3ff-e455d718e803"
      },
      "source": [
        "dataiter = iter(train_loader)\n",
        "sample_x, sample_y = dataiter.next()\n",
        "\n",
        "print(sample_x.shape, sample_y.shape)"
      ],
      "execution_count": 24,
      "outputs": [
        {
          "output_type": "stream",
          "text": [
            "torch.Size([40, 200]) torch.Size([40])\n"
          ],
          "name": "stdout"
        }
      ]
    },
    {
      "cell_type": "code",
      "metadata": {
        "id": "imSrBtZah_ld"
      },
      "source": [
        ""
      ],
      "execution_count": null,
      "outputs": []
    },
    {
      "cell_type": "markdown",
      "metadata": {
        "id": "PAisbQuqixDn"
      },
      "source": [
        "LSTM"
      ]
    },
    {
      "cell_type": "markdown",
      "metadata": {
        "id": "2K3lhv51XWcy"
      },
      "source": [
        "![LSTM.png](data:image/png;base64,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)"
      ]
    },
    {
      "cell_type": "code",
      "metadata": {
        "id": "i-zAUJnah_oP"
      },
      "source": [
        "import torch.nn as nn\n",
        "\n",
        "class SentimentNet(nn.Module):\n",
        "    def __init__(self, vocab_size, output_size, embedding_dim, hidden_dim, n_layers, drop_prob=0.5):\n",
        "        super(SentimentNet, self).__init__()\n",
        "        self.output_size = output_size\n",
        "        self.n_layers = n_layers\n",
        "        self.hidden_dim = hidden_dim\n",
        "        \n",
        "        self.embedding = nn.Embedding(vocab_size, embedding_dim)\n",
        "        self.lstm = nn.LSTM(embedding_dim, hidden_dim, n_layers, dropout=drop_prob, batch_first=True)\n",
        "        self.dropout = nn.Dropout(0.2)\n",
        "        self.fc = nn.Linear(hidden_dim, output_size)\n",
        "        self.sigmoid = nn.Sigmoid()\n",
        "        \n",
        "    def forward(self, x, hidden):\n",
        "        batch_size = x.size(0)\n",
        "        x = x.long()\n",
        "        embeds = self.embedding(x)\n",
        "        lstm_out, hidden = self.lstm(embeds, hidden)\n",
        "        lstm_out = lstm_out.contiguous().view(-1, self.hidden_dim)\n",
        "        \n",
        "        out = self.dropout(lstm_out)\n",
        "        out = self.fc(out)\n",
        "        out = self.sigmoid(out)\n",
        "        \n",
        "        out = out.view(batch_size, -1)\n",
        "        out = out[:,-1]\n",
        "        return out, hidden\n",
        "    \n",
        "    def init_hidden(self, batch_size):\n",
        "        weight = next(self.parameters()).data\n",
        "        hidden = (weight.new(self.n_layers, batch_size, self.hidden_dim).zero_().to(device),\n",
        "                      weight.new(self.n_layers, batch_size, self.hidden_dim).zero_().to(device))\n",
        "        return hidden"
      ],
      "execution_count": null,
      "outputs": []
    },
    {
      "cell_type": "code",
      "metadata": {
        "id": "EBJLqB0th_rk"
      },
      "source": [
        ""
      ],
      "execution_count": null,
      "outputs": []
    },
    {
      "cell_type": "code",
      "metadata": {
        "colab": {
          "base_uri": "https://localhost:8080/"
        },
        "id": "R-6LjKOOh_tl",
        "outputId": "794ab99e-0521-4edb-8384-6ec484713f48"
      },
      "source": [
        "vocab_size = len(word2idx) + 1\n",
        "output_size = 1\n",
        "embedding_dim = 400\n",
        "hidden_dim = 512\n",
        "n_layers = 2\n",
        "\n",
        "model = SentimentNet(vocab_size, output_size, embedding_dim, hidden_dim, n_layers)\n",
        "model.to(device)\n",
        "print(model)"
      ],
      "execution_count": null,
      "outputs": [
        {
          "output_type": "stream",
          "text": [
            "SentimentNet(\n",
            "  (embedding): Embedding(225965, 400)\n",
            "  (lstm): LSTM(400, 512, num_layers=2, batch_first=True, dropout=0.5)\n",
            "  (dropout): Dropout(p=0.2, inplace=False)\n",
            "  (fc): Linear(in_features=512, out_features=1, bias=True)\n",
            "  (sigmoid): Sigmoid()\n",
            ")\n"
          ],
          "name": "stdout"
        }
      ]
    },
    {
      "cell_type": "code",
      "metadata": {
        "id": "5XDLQcnRh_wH"
      },
      "source": [
        ""
      ],
      "execution_count": null,
      "outputs": []
    },
    {
      "cell_type": "code",
      "metadata": {
        "id": "NYiynzLniIy6"
      },
      "source": [
        "lr=0.005\n",
        "criterion = nn.BCELoss()\n",
        "optimizer = torch.optim.Adam(model.parameters(), lr=lr)"
      ],
      "execution_count": null,
      "outputs": []
    },
    {
      "cell_type": "code",
      "metadata": {
        "id": "z0V_ey4PiI14"
      },
      "source": [
        ""
      ],
      "execution_count": null,
      "outputs": []
    },
    {
      "cell_type": "code",
      "metadata": {
        "id": "YvADqhAliI5G"
      },
      "source": [
        "epochs = 2\n",
        "counter = 0\n",
        "print_every = 1000\n",
        "clip = 5\n",
        "valid_loss_min = np.Inf\n",
        "\n",
        "model.train()\n",
        "for i in range(epochs):\n",
        "    h = model.init_hidden(batch_size)\n",
        "    \n",
        "    for inputs, labels in train_loader:\n",
        "        counter += 1\n",
        "        h = tuple([e.data for e in h])\n",
        "        inputs, labels = inputs.to(device), labels.to(device)\n",
        "        model.zero_grad()\n",
        "        output, h = model(inputs, h)\n",
        "        loss = criterion(output.squeeze(), labels.float())\n",
        "        loss.backward()\n",
        "        nn.utils.clip_grad_norm_(model.parameters(), clip)\n",
        "        optimizer.step()\n",
        "        \n",
        "        if counter%print_every == 0:\n",
        "            val_h = model.init_hidden(batch_size)\n",
        "            val_losses = []\n",
        "            model.eval()\n",
        "            for inp, lab in val_loader:\n",
        "                val_h = tuple([each.data for each in val_h])\n",
        "                inp, lab = inp.to(device), lab.to(device)\n",
        "                out, val_h = model(inp, val_h)\n",
        "                val_loss = criterion(out.squeeze(), lab.float())\n",
        "                val_losses.append(val_loss.item())\n",
        "                \n",
        "            model.train()\n",
        "            print(\"Epoch: {}/{}...\".format(i+1, epochs),\n",
        "                  \"Step: {}...\".format(counter),\n",
        "                  \"Loss: {:.6f}...\".format(loss.item()),\n",
        "                  \"Val Loss: {:.6f}\".format(np.mean(val_losses)))\n",
        "            if np.mean(val_losses) <= valid_loss_min:\n",
        "                torch.save(model.state_dict(), '../working/state_dict.pt')\n",
        "                print('Validation loss decreased ({:.6f} --> {:.6f}).  Saving model ...'.format(valid_loss_min,np.mean(val_losses)))\n",
        "                valid_loss_min = np.mean(val_losses)"
      ],
      "execution_count": null,
      "outputs": []
    },
    {
      "cell_type": "code",
      "metadata": {
        "id": "JJKB3yl8iI6i"
      },
      "source": [
        ""
      ],
      "execution_count": null,
      "outputs": []
    },
    {
      "cell_type": "code",
      "metadata": {
        "id": "rH6IFvp_iOWR"
      },
      "source": [
        "model.load_state_dict(torch.load('../working/state_dict.pt'))"
      ],
      "execution_count": null,
      "outputs": []
    },
    {
      "cell_type": "code",
      "metadata": {
        "id": "5w-e41adiOTb"
      },
      "source": [
        ""
      ],
      "execution_count": null,
      "outputs": []
    },
    {
      "cell_type": "code",
      "metadata": {
        "id": "KKHSvr0yiOLG"
      },
      "source": [
        "test_losses = []\n",
        "num_correct = 0\n",
        "h = model.init_hidden(batch_size)\n",
        "\n",
        "model.eval()\n",
        "for inputs, labels in test_loader:\n",
        "    h = tuple([each.data for each in h])\n",
        "    inputs, labels = inputs.to(device), labels.to(device)\n",
        "    output, h = model(inputs, h)\n",
        "    test_loss = criterion(output.squeeze(), labels.float())\n",
        "    test_losses.append(test_loss.item())\n",
        "    pred = torch.round(output.squeeze()) #rounds the output to 0/1\n",
        "    correct_tensor = pred.eq(labels.float().view_as(pred))\n",
        "    correct = np.squeeze(correct_tensor.cpu().numpy())\n",
        "    num_correct += np.sum(correct)\n",
        "        \n",
        "print(\"Test loss: {:.3f}\".format(np.mean(test_losses)))\n",
        "test_acc = num_correct/len(test_loader.dataset)\n",
        "print(\"Test accuracy: {:.3f}%\".format(test_acc*100))"
      ],
      "execution_count": null,
      "outputs": []
    },
    {
      "cell_type": "markdown",
      "metadata": {
        "id": "ol0xxzuuUY5O"
      },
      "source": [
        "GRU"
      ]
    },
    {
      "cell_type": "markdown",
      "metadata": {
        "id": "nc14sSlCXf9v"
      },
      "source": [
        "![GRU.png](data:image/png;base64,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)"
      ]
    },
    {
      "cell_type": "code",
      "metadata": {
        "id": "vGFJsUjyUdyt"
      },
      "source": [
        "import torch.nn as nn\n",
        "class GRUNet(nn.Module):\n",
        "    def __init__(self, vocab_size, output_size, embedding_dim, hidden_dim, n_layers, drop_prob=0.5):\n",
        "        super(GRUNet, self).__init__()\n",
        "        self.output_size = output_size\n",
        "        self.n_layers = n_layers\n",
        "        self.hidden_dim = hidden_dim\n",
        "        \n",
        "        self.embedding = nn.Embedding(vocab_size, embedding_dim)\n",
        "        self.gru = nn.GRU(embedding_dim, hidden_dim, n_layers, batch_first=True, dropout=drop_prob)\n",
        "        self.dropout = nn.Dropout(drop_prob)\n",
        "        self.fc = nn.Linear(hidden_dim, output_size)\n",
        "        self.sigmoid = nn.Sigmoid()\n",
        "        \n",
        "    def forward(self, x, hidden):\n",
        "        batch_size = x.size(0)\n",
        "        x = x.long()\n",
        "        embeds = self.embedding(x)\n",
        "        GRU_out, hidden = self.gru(embeds, hidden)\n",
        "        GRU_out = GRU_out.contiguous().view(-1,self.hidden_dim)\n",
        "        \n",
        "        out = self.dropout(GRU_out)\n",
        "        out = self.fc(out)\n",
        "        out = self.sigmoid(out)\n",
        "        \n",
        "        out = out.view(batch_size, -1)\n",
        "        out = out[:,-1]\n",
        "        return out, hidden\n",
        "    \n",
        "    def init_hidden(self, batch_size):\n",
        "        weight = next(self.parameters()).data\n",
        "        hidden = weight.new(self.n_layers, batch_size, self.hidden_dim).zero_().to(device)\n",
        "        return hidden"
      ],
      "execution_count": 25,
      "outputs": []
    },
    {
      "cell_type": "code",
      "metadata": {
        "id": "KCsoJXsJUwj8"
      },
      "source": [
        "vocab_size = len(word2idx) + 1\n",
        "output_size = 1\n",
        "embedding_dim = 400\n",
        "hidden_dim = 512\n",
        "n_layers = 2\n",
        "\n",
        "model = GRUNet(vocab_size, output_size, embedding_dim, hidden_dim, n_layers)\n",
        "model.to(device)\n",
        "\n",
        "lr=0.001\n",
        "criterion = nn.BCELoss()\n",
        "optimizer = torch.optim.Adam(model.parameters(), lr=lr)"
      ],
      "execution_count": 26,
      "outputs": []
    },
    {
      "cell_type": "markdown",
      "metadata": {
        "id": "xpXJ09_UUzwY"
      },
      "source": [
        ""
      ]
    },
    {
      "cell_type": "code",
      "metadata": {
        "colab": {
          "base_uri": "https://localhost:8080/"
        },
        "id": "dGjKWrOQU09W",
        "outputId": "ec2d561d-7dbc-48bd-b8c1-d06c93448e26"
      },
      "source": [
        "epochs = 2\n",
        "counter = 0\n",
        "print_every = 500\n",
        "clip = 5\n",
        "valid_loss_min = np.Inf\n",
        "\n",
        "model.train()\n",
        "for i in range(epochs):\n",
        "    h = model.init_hidden(batch_size)\n",
        "    \n",
        "    for inputs, labels in train_loader:\n",
        "        counter += 1\n",
        "        h = h.data\n",
        "        inputs, labels = inputs.to(device), labels.to(device)\n",
        "        model.zero_grad()\n",
        "        output, h = model(inputs, h)\n",
        "        loss = criterion(output.squeeze(), labels.float())\n",
        "        loss.backward()\n",
        "        nn.utils.clip_grad_norm_(model.parameters(), clip)\n",
        "        optimizer.step()\n",
        "        \n",
        "        if counter%print_every == 0:\n",
        "            val_h = model.init_hidden(batch_size)\n",
        "            val_losses = []\n",
        "            model.eval()\n",
        "            for inp, lab in val_loader:\n",
        "                val_h = val_h.data\n",
        "                inp, lab = inp.to(device), lab.to(device)\n",
        "                out, val_h = model(inp, val_h)\n",
        "                val_loss = criterion(out.squeeze(), lab.float())\n",
        "                val_losses.append(val_loss.item())\n",
        "                \n",
        "            model.train()\n",
        "            print(\"Epoch: {}/{}...\".format(i+1, epochs),\n",
        "                  \"Step: {}...\".format(counter),\n",
        "                  \"Loss: {:.6f}...\".format(loss.item()),\n",
        "                  \"Val Loss: {:.6f}\".format(np.mean(val_losses)))\n",
        "            if np.mean(val_losses) <= valid_loss_min:\n",
        "                torch.save(model.state_dict(), './state_dict.pt')\n",
        "                print('Validation loss decreased ({:.6f} --> {:.6f}).  Saving model ...'.format(valid_loss_min,np.mean(val_losses)))\n",
        "                valid_loss_min = np.mean(val_losses)"
      ],
      "execution_count": 27,
      "outputs": [
        {
          "output_type": "stream",
          "text": [
            "Epoch: 1/2... Step: 500... Loss: 0.263638... Val Loss: 1.090557\n",
            "Validation loss decreased (inf --> 1.090557).  Saving model ...\n",
            "Epoch: 1/2... Step: 1000... Loss: 0.343212... Val Loss: 1.029881\n",
            "Validation loss decreased (1.090557 --> 1.029881).  Saving model ...\n",
            "Epoch: 2/2... Step: 1500... Loss: 0.198962... Val Loss: 1.263056\n",
            "Epoch: 2/2... Step: 2000... Loss: 0.311458... Val Loss: 1.210171\n"
          ],
          "name": "stdout"
        }
      ]
    },
    {
      "cell_type": "code",
      "metadata": {
        "id": "5NANBAoCU5IX",
        "colab": {
          "base_uri": "https://localhost:8080/"
        },
        "outputId": "5ad9531f-1dc3-4c2a-c05a-771d36dc1e7a"
      },
      "source": [
        "# Loading the best model GRU\n",
        "model.load_state_dict(torch.load('./state_dict.pt'))\n",
        "\n",
        "test_losses = []\n",
        "num_correct = 0\n",
        "h = model.init_hidden(batch_size)\n",
        "\n",
        "model.eval()\n",
        "for inputs, labels in test_loader:\n",
        "    h = h.data\n",
        "    inputs, labels = inputs.to(device), labels.to(device)\n",
        "    output, h = model(inputs, h)\n",
        "    test_loss = criterion(output.squeeze(), labels.float())\n",
        "    test_losses.append(test_loss.item())\n",
        "    pred = torch.round(output.squeeze())  # Rounds the output to 0/1\n",
        "    correct_tensor = pred.eq(labels.float().view_as(pred))\n",
        "    correct = np.squeeze(correct_tensor.cpu().numpy())\n",
        "    num_correct += np.sum(correct)\n",
        "\n",
        "print(\"Test loss: {:.3f}\".format(np.mean(test_losses)))\n",
        "test_acc = num_correct/len(test_loader.dataset)\n",
        "print(\"Test accuracy: {:.3f}%\".format(test_acc*100))"
      ],
      "execution_count": 28,
      "outputs": [
        {
          "output_type": "stream",
          "text": [
            "Test loss: 1.017\n",
            "Test accuracy: 50.320%\n"
          ],
          "name": "stdout"
        }
      ]
    }
  ]
}